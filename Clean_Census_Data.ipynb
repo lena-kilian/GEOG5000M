{
 "cells": [
  {
   "cell_type": "markdown",
   "metadata": {},
   "source": [
    "Import libraries"
   ]
  },
  {
   "cell_type": "code",
   "execution_count": 3,
   "metadata": {},
   "outputs": [],
   "source": [
    "import pandas as pd\n",
    "import numpy as np\n",
    "import requests\n",
    "import json\n",
    "import os\n",
    "import geopandas as gpd\n",
    "import copy as cp"
   ]
  },
  {
   "cell_type": "code",
   "execution_count": 62,
   "metadata": {},
   "outputs": [],
   "source": [
    "# make functions to celan census\n",
    "def clean_census_data(data):\n",
    "    # remove unwanted columns\n",
    "    clean_data = (data.drop(['CDU_ID', 'GEO_LABEL', 'GEO_TYPE', 'GEO_TYP2'], axis =1)\\\n",
    "                  .drop([0], axis = 0)\\\n",
    "                  .set_index('GEO_CODE')\\\n",
    "                  .T)\n",
    "    clean_data = clean_data.dropna(axis = 0).T\n",
    "    return(clean_data)\n",
    "    \n",
    "def get_meta_data(data):\n",
    "    # remove unwanted columns\n",
    "    meta_data = (data.dropna(axis = 1).iloc[:1].T)\n",
    "    # separate into various columns\n",
    "    for i in range(meta_data.iloc[0][0].count(' - ')):\n",
    "        name = str(meta_data.iloc[0][0].split(' - ')[i].split(' : ')[0])\n",
    "        # extract individual strings\n",
    "        temp_list = []\n",
    "        for j in range(len(meta_data)):\n",
    "            var_string = str(meta_data.iloc[j][0].split(' - ')[i].split(' : ')[1])\n",
    "            temp_list.append(var_string)\n",
    "            #print(temp_list)\n",
    "        # make columns\n",
    "        meta_data[name] = temp_list\n",
    "        #print(temp_list)\n",
    "    # remove unwanted column\n",
    "    meta_data = meta_data.drop([0], axis = 1)\n",
    "    # clean headers\n",
    "    meta_data.columns = meta_data.columns.str.strip().str.lower().str.replace(' ', '_').str.replace(')', '').str.replace('(', '').str.replace(';', '')\n",
    "    return(meta_data)\n",
    "    "
   ]
  },
  {
   "cell_type": "code",
   "execution_count": 70,
   "metadata": {},
   "outputs": [],
   "source": [
    "# read in data\n",
    "\n",
    "# make lists and run throguh function\n",
    "census_list = [cen_age, cen_bdr, cen_dpr, cen_eth, cen_hth, cen_sex]\n",
    "census_str = ['age', 'bdr', 'dpr', 'eth', 'hth', 'sex']\n",
    "\n",
    "for i in range(len(census_list)):\n",
    "    cen_df = clean_census_data(census_list[i])\n",
    "    cen_df.to_csv('Data/Census/' + census_str[i] + '_data.csv')"
   ]
  }
 ],
 "metadata": {
  "kernelspec": {
   "display_name": "Python 3",
   "language": "python",
   "name": "python3"
  },
  "language_info": {
   "codemirror_mode": {
    "name": "ipython",
    "version": 3
   },
   "file_extension": ".py",
   "mimetype": "text/x-python",
   "name": "python",
   "nbconvert_exporter": "python",
   "pygments_lexer": "ipython3",
   "version": "3.6.7"
  }
 },
 "nbformat": 4,
 "nbformat_minor": 2
}
