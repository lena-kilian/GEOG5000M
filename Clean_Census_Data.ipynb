{
 "cells": [
  {
   "cell_type": "markdown",
   "metadata": {},
   "source": [
    "Import libraries"
   ]
  },
  {
   "cell_type": "code",
   "execution_count": 1,
   "metadata": {},
   "outputs": [],
   "source": [
    "import pandas as pd\n",
    "import numpy as np\n",
    "import requests\n",
    "import json\n",
    "import os\n",
    "import geopandas as gpd\n",
    "import copy as cp\n",
    "import json"
   ]
  },
  {
   "cell_type": "code",
   "execution_count": 2,
   "metadata": {},
   "outputs": [],
   "source": [
    "# make functions to celan census\n",
    "def clean_census_data(data):\n",
    "    # remove unwanted columns\n",
    "    clean_data = (data.drop(['CDU_ID', 'GEO_LABEL', 'GEO_TYPE', 'GEO_TYP2'], axis =1)\\\n",
    "                  .drop([0], axis = 0)\\\n",
    "                  .set_index('GEO_CODE')\\\n",
    "                  .T)\n",
    "    clean_data = clean_data.dropna(axis = 0).T\n",
    "    return(clean_data)\n",
    "    \n",
    "def get_meta_data(data):\n",
    "    # remove unwanted columns\n",
    "    meta_data = (data.dropna(axis = 1).iloc[:1].T)\n",
    "    # separate into various columns\n",
    "    for i in range(meta_data.iloc[0][0].count(' - ')):\n",
    "        name = str(meta_data.iloc[0][0].split(' - ')[i].split(' : ')[0])\n",
    "        # extract individual strings\n",
    "        temp_list = []\n",
    "        for j in range(len(meta_data)):\n",
    "            var_string = str(meta_data.iloc[j][0].split(' - ')[i].split(' : ')[1])\n",
    "            temp_list.append(var_string)\n",
    "            #print(temp_list)\n",
    "        # make columns\n",
    "        meta_data[name] = temp_list\n",
    "        #print(temp_list)\n",
    "    # remove unwanted column\n",
    "    meta_data = meta_data.drop([0], axis = 1)\n",
    "    # clean headers\n",
    "    meta_data.columns = meta_data.columns.str.strip().str.lower().str.replace(' ', '_').str.replace(')', '').str.replace('(', '').str.replace(';', '')\n",
    "    return(meta_data)\n",
    "    "
   ]
  },
  {
   "cell_type": "code",
   "execution_count": 3,
   "metadata": {},
   "outputs": [],
   "source": [
    "# files\n",
    "\n",
    "cen_age = pd.read_csv('Data/Census/DATA_AGE_UNIT.csv')\n",
    "cen_bdr = pd.read_csv('Data/Census/DATA_BEDR_UNIT.csv')\n",
    "cen_dpr = pd.read_csv('Data/Census/DATA_DEPR_UNIT.csv')\n",
    "cen_eth = pd.read_csv('Data/Census/DATA_ETH_UNIT.csv')\n",
    "cen_hth = pd.read_csv('Data/Census/DATA_HEALTH_UNIT.csv')\n",
    "cen_sex = pd.read_csv('Data/Census/DATA_SEX_UNIT.csv')\n",
    "cen_hhd = pd.read_csv('Data/Census/DATA_HHDCOM_UNIT.csv')\n",
    "cen_ecn = pd.read_csv('Data/Census/DATA_ECON_UNIT.csv')\n",
    "cen_hsz = pd.read_csv('Data/Census/DATA_HSZ_UNIT.csv')\n",
    "cen_buk = pd.read_csv('Data/Census/DATA_BUK_UNIT.csv')\n",
    "cen_rno = pd.read_csv('Data/Census/DATA_RNO_UNIT.csv')\n",
    "cen_sec = pd.read_csv('Data/Census/DATA_NSSeC_UNIT.csv')\n",
    "cen_rlg = pd.read_csv('Data/Census/DATA_RELIG_UNIT.csv')\n",
    "cen_cob = pd.read_csv('Data/Census/DATA_COB_UNIT.csv')\n",
    "cen_mrg = pd.read_csv('Data/Census/Data_AGESST_UNIT.csv')"
   ]
  },
  {
   "cell_type": "code",
   "execution_count": 4,
   "metadata": {},
   "outputs": [],
   "source": [
    "# make lists and run throguh function\n",
    "\n",
    "census_list = [cen_age, cen_bdr, cen_dpr, cen_eth, cen_hth, cen_sex, cen_hhd, cen_ecn, cen_hsz, cen_buk, cen_rno, cen_sec, cen_rlg, cen_cob, cen_mrg]\n",
    "census_str = ['age', 'bdr', 'dpr', 'eth', 'hth', 'sex', 'hhd', 'ecn', 'hsz', 'buk', 'rno', 'sec', 'rlg', 'cob', 'mrg']"
   ]
  },
  {
   "cell_type": "code",
   "execution_count": 5,
   "metadata": {},
   "outputs": [],
   "source": [
    "# clean and save to file\n",
    "meta_list = []\n",
    "data_list = []\n",
    "for i in range(len(census_list)):\n",
    "    # clean df\n",
    "    cen_df = clean_census_data(census_list[i])\n",
    "    data_list.append(str('Data/Census/' + census_str[i] + '_data.csv'))\n",
    "    cen_df.to_csv(data_list[i])\n",
    "    \n",
    "    # meta data\n",
    "    meta_df = get_meta_data(census_list[i])\n",
    "    meta_list.append(str('Data/Census/' + census_str[i] + '_meta.csv'))\n",
    "    meta_df.to_csv(meta_list[i])"
   ]
  },
  {
   "cell_type": "code",
   "execution_count": 6,
   "metadata": {},
   "outputs": [],
   "source": [
    "# get fractions and merge dataframes\n",
    "all_data = pd.read_csv(data_list[0]).set_index('GEO_CODE')\n",
    "\n",
    "for i in range(1, len(data_list)):\n",
    "    df = pd.read_csv(data_list[i]).set_index('GEO_CODE')\n",
    "    df['total'] = df.sum(axis = 1)\n",
    "    for j in range(len(df.columns)):\n",
    "        df.iloc[:, j] = df.iloc[:, j] / df['total']\n",
    "    all_data = all_data.join(df.drop('total', axis =1))\n",
    "\n",
    "all_data.to_csv('Data/Census/all_data.csv')"
   ]
  },
  {
   "cell_type": "code",
   "execution_count": 7,
   "metadata": {},
   "outputs": [],
   "source": [
    "# make dictionary\n",
    "meta_data = {}\n",
    "for i in range(len(meta_list)):\n",
    "    entry = pd.read_csv(meta_list[i]).set_index('Unnamed: 0').iloc[:, 0].to_dict()\n",
    "    meta_data.update(entry)"
   ]
  },
  {
   "cell_type": "code",
   "execution_count": 8,
   "metadata": {},
   "outputs": [],
   "source": [
    "json = json.dumps(meta_data)\n",
    "f = open(\"Data/Census/meta_dict.json\",\"w\")\n",
    "f.write(json)\n",
    "f.close()"
   ]
  }
 ],
 "metadata": {
  "kernelspec": {
   "display_name": "Python 3",
   "language": "python",
   "name": "python3"
  },
  "language_info": {
   "codemirror_mode": {
    "name": "ipython",
    "version": 3
   },
   "file_extension": ".py",
   "mimetype": "text/x-python",
   "name": "python",
   "nbconvert_exporter": "python",
   "pygments_lexer": "ipython3",
   "version": "3.6.7"
  }
 },
 "nbformat": 4,
 "nbformat_minor": 2
}
