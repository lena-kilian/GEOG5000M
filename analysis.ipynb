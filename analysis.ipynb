{
 "cells": [
  {
   "cell_type": "code",
   "execution_count": 1,
   "metadata": {},
   "outputs": [],
   "source": [
    "import pandas as pd\n",
    "\n",
    "# load data and tidy headers\n",
    "data = pd.read_excel('Bristol Data.xlsx', index_col = 0).dropna(axis = 0)\n",
    "data.columns = data.columns.str.lower()\n",
    "\n",
    "info_cols = ['msoa', 'lad', 'lad_nm', 'reg', 'pop']\n",
    "\n",
    "lsoa_info = data[info_cols]\n",
    "\n",
    "lsoa_data = data.loc[:, ~data.columns.isin(info_cols)]"
   ]
  },
  {
   "cell_type": "code",
   "execution_count": null,
   "metadata": {},
   "outputs": [],
   "source": []
  }
 ],
 "metadata": {
  "kernelspec": {
   "display_name": "Python 3",
   "language": "python",
   "name": "python3"
  },
  "language_info": {
   "codemirror_mode": {
    "name": "ipython",
    "version": 3
   },
   "file_extension": ".py",
   "mimetype": "text/x-python",
   "name": "python",
   "nbconvert_exporter": "python",
   "pygments_lexer": "ipython3",
   "version": "3.6.5"
  }
 },
 "nbformat": 4,
 "nbformat_minor": 2
}
